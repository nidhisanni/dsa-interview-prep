{
 "cells": [
  {
   "cell_type": "markdown",
   "id": "29988afb-4d74-4c94-822b-57ffd5bbd745",
   "metadata": {},
   "source": [
    "## Let us say your expense for every month are listed below,\r\n",
    "January - 2200\r\n",
    "February - 2350\r\n",
    "March - 2600\r\n",
    "April - 2130\r\n",
    "May - 2190\r\n",
    "Create a list to store these monthly expenses and using that find out,\r\n",
    "\r\n",
    "1. In Feb, how many dollars you spent extra compare to January?\r\n",
    "2. Find out your total expense in first quarter (first three months) of the year.\r\n",
    "3. Find out if you spent exactly 2000 dollars in any month\r\n",
    "4. June month just finished and your expense is 1980 dollar. Add this item to our monthly expense list\r\n",
    "5. You returned an item that you bought in a month of April and\r\n",
    "got a refund of 200$. Make a correction to your monthly expense list\r\n",
    "based on this"
   ]
  },
  {
   "cell_type": "code",
   "execution_count": 143,
   "id": "7adb991d-ee51-4b69-a195-56cae6f82c7d",
   "metadata": {},
   "outputs": [
    {
     "name": "stdout",
     "output_type": "stream",
     "text": [
      "Extra expense in Feb compared to Jan: 150\n",
      "Total expense in first quarter: 7150\n",
      "Did I spend exactly $2000 in any month? False\n",
      "Expenses after adding June: [2200, 2350, 2600, 2130, 2190, 1980]\n",
      "Expenses after April refund: [2200, 2350, 2600, 1930, 2190, 1980]\n"
     ]
    }
   ],
   "source": [
    "months=['January', 'February', 'March','April', 'May']\n",
    "expenses=[2200,2350,2600,2130,2190]\n",
    "\n",
    "#In Feb, how many dollars you spent extra compare to January?\n",
    "extra= expenses[1] - expenses[0]\n",
    "print(\"Extra expense in Feb compared to Jan:\", extra)\n",
    "\n",
    "#Find out your total expense in first quarter (first three months) of the year.\n",
    "total_first_quarter = expenses[0] + expenses[1] + expenses[2]\n",
    "print(\"Total expense in first quarter:\", total_first_quarter)\n",
    "\n",
    "#Find out if you spent exactly 2000 dollars in any month\n",
    "is_2000_spent = 2000 in expenses\n",
    "print(\"Did I spend exactly $2000 in any month?\", is_2000_spent)\n",
    "\n",
    "#June month just finished and your expense is 1980 dollar. Add this item to our monthly expense list\n",
    "expenses.append(1980)\n",
    "print(\"Expenses after adding June:\", expenses)\n",
    "\n",
    "#You returned an item that you bought in a month of April and got a refund of 200$. Make a correction to your monthly expense list based on this\n",
    "expenses[3] = expenses[3] - 200\n",
    "print(\"Expenses after April refund:\", expenses)\n"
   ]
  },
  {
   "cell_type": "code",
   "execution_count": 145,
   "id": "dd9b498e-6f90-4303-84f4-90426e079210",
   "metadata": {},
   "outputs": [
    {
     "name": "stdout",
     "output_type": "stream",
     "text": [
      "7150\n"
     ]
    }
   ],
   "source": [
    "total_first_quarter = sum(expenses[0:3])\n",
    "print(total_first_quarter)"
   ]
  },
  {
   "cell_type": "markdown",
   "id": "a24c4c8a-a46d-4982-b6a1-253cef842eec",
   "metadata": {},
   "source": [
    "\n",
    "## 1️⃣ Find the maximum and minimum element in an array\n"
   ]
  },
  {
   "cell_type": "code",
   "execution_count": 16,
   "id": "923cee66-05c2-4eee-ade5-e41d8b8f4cba",
   "metadata": {},
   "outputs": [
    {
     "name": "stdout",
     "output_type": "stream",
     "text": [
      "90\n",
      "12\n"
     ]
    }
   ],
   "source": [
    "arr=[12,89,45,67,90]\n",
    "max_val= arr[0]\n",
    "min_val= arr[0]\n",
    "for i in arr:\n",
    "    if i>max_val:\n",
    "        max_val=i\n",
    "    if i<min_val:\n",
    "        min_val=i\n",
    "print(max_val)\n",
    "print(min_val)"
   ]
  },
  {
   "cell_type": "markdown",
   "id": "4dffe383-82e8-4e0b-9f8c-dee9cdff47eb",
   "metadata": {},
   "source": [
    "## 2️⃣ Find the sum of all elements in an array"
   ]
  },
  {
   "cell_type": "code",
   "execution_count": 23,
   "id": "ecc70c9f-e950-405c-985d-65e7203fda13",
   "metadata": {},
   "outputs": [
    {
     "name": "stdout",
     "output_type": "stream",
     "text": [
      "303\n"
     ]
    }
   ],
   "source": [
    "arr=[12,89,45,67,90]\n",
    "total=0\n",
    "for i in arr:\n",
    "    total=total+i\n",
    "print(total)\n",
    "    "
   ]
  },
  {
   "cell_type": "code",
   "execution_count": 57,
   "id": "891c87bb-c3c8-499f-b5f8-4735bb4bedda",
   "metadata": {},
   "outputs": [
    {
     "name": "stdout",
     "output_type": "stream",
     "text": [
      "15\n"
     ]
    }
   ],
   "source": [
    "#built-in sum()\n",
    "arr = [1, 2, 3, 4, 5]\n",
    "total = sum(arr)\n",
    "print(total)"
   ]
  },
  {
   "cell_type": "code",
   "execution_count": 67,
   "id": "775e4ee6-5404-4a3c-af8b-8affdca3cc81",
   "metadata": {},
   "outputs": [
    {
     "name": "stdout",
     "output_type": "stream",
     "text": [
      "15\n",
      "5\n"
     ]
    }
   ],
   "source": [
    "print(sum(arr))\n",
    "print(len(arr))"
   ]
  },
  {
   "cell_type": "markdown",
   "id": "fff9d24a-95a2-470d-9c9d-3b37ec73b764",
   "metadata": {},
   "source": [
    "## 3️⃣ Reverse an array"
   ]
  },
  {
   "cell_type": "code",
   "execution_count": 69,
   "id": "4878de4a-6fb3-4128-8f7d-b367e7ab1763",
   "metadata": {},
   "outputs": [
    {
     "name": "stdout",
     "output_type": "stream",
     "text": [
      "reversed array:  [5, 4, 3, 2, 1]\n"
     ]
    }
   ],
   "source": [
    "arr=[1,2,3,4,5]\n",
    "start=0\n",
    "end=len(arr)-1\n",
    "while start < end:    #A while loop keeps running as long as the condition is True.\n",
    "    arr[start], arr[end]= arr[end], arr[start]\n",
    "    start= start+1\n",
    "    end= end-1\n",
    "print('reversed array: ', arr)"
   ]
  },
  {
   "cell_type": "markdown",
   "id": "496bf90c-7960-48a6-b4d9-a06d439cb745",
   "metadata": {},
   "source": [
    "## 4️⃣ Check if the array is sorted"
   ]
  },
  {
   "cell_type": "code",
   "execution_count": 73,
   "id": "2982d1b0-3630-431c-a96e-c73cc403d7fc",
   "metadata": {},
   "outputs": [
    {
     "name": "stdout",
     "output_type": "stream",
     "text": [
      "array is sorted!!\n"
     ]
    }
   ],
   "source": [
    "arr=[1,2,3,4,5]\n",
    "is_sorted= True    #Because we start by assuming that the array is sorted.\n",
    "for i in range(len(arr)-1):\n",
    "    if arr[i] > arr[i+1]:\n",
    "        is_sorted= False\n",
    "        break;\n",
    "if is_sorted == True:\n",
    "    print('array is sorted!!')\n",
    "else:\n",
    "    print('array is not sorted')\n"
   ]
  },
  {
   "cell_type": "code",
   "execution_count": 75,
   "id": "862592a2-5e73-4868-ae24-09e8aa482bdd",
   "metadata": {},
   "outputs": [
    {
     "name": "stdout",
     "output_type": "stream",
     "text": [
      "array is not sorted\n"
     ]
    }
   ],
   "source": [
    "arr=[1,2,3,4,5,8,6,0]\n",
    "is_sorted= True    \n",
    "for i in range(len(arr)-1):\n",
    "    if arr[i] > arr[i+1]:\n",
    "        is_sorted= False\n",
    "        break;\n",
    "if is_sorted == True:\n",
    "    print('array is sorted!!')\n",
    "else:\n",
    "    print('array is not sorted')\n"
   ]
  },
  {
   "cell_type": "markdown",
   "id": "3d13aa2c-88d9-471d-89c8-b0f0767af933",
   "metadata": {},
   "source": [
    "##  5️⃣ Find second largest element"
   ]
  },
  {
   "cell_type": "code",
   "execution_count": 81,
   "id": "3856b2fb-1ef8-45eb-a562-a9d686653823",
   "metadata": {},
   "outputs": [
    {
     "name": "stdout",
     "output_type": "stream",
     "text": [
      "SECOND LARGEST ELEMENT: 6\n"
     ]
    }
   ],
   "source": [
    "arr=[1,2,3,4,5,8,6,0]\n",
    "first= second= float('-inf')\n",
    "for i in arr:\n",
    "    if i > first:\n",
    "        second= first\n",
    "        first=i\n",
    "    elif i > second and i !=first:\n",
    "        second=i\n",
    "print('SECOND LARGEST ELEMENT:', second)\n",
    "        "
   ]
  },
  {
   "cell_type": "code",
   "execution_count": 83,
   "id": "bb7efd9c-4cab-4837-930c-2084803c1723",
   "metadata": {},
   "outputs": [
    {
     "name": "stdout",
     "output_type": "stream",
     "text": [
      "SECOND LARGEST ELEMENT: 6\n"
     ]
    }
   ],
   "source": [
    "arr=[1,2,3,4,5,8,6,0]\n",
    "first= max(arr)\n",
    "second= float('-inf')\n",
    "for i in arr:\n",
    "    if i !=first and i>second:\n",
    "        second= i\n",
    "print('SECOND LARGEST ELEMENT:', second)\n"
   ]
  },
  {
   "cell_type": "markdown",
   "id": "d95cc92d-d67e-4795-9187-def2b9d8d565",
   "metadata": {},
   "source": [
    "## ✅ Find the kth largest element"
   ]
  },
  {
   "cell_type": "code",
   "execution_count": 113,
   "id": "5df92fcc-01ba-4a09-8ca3-f03d8bab34af",
   "metadata": {},
   "outputs": [
    {
     "name": "stdout",
     "output_type": "stream",
     "text": [
      "sorted array: [6, 5, 4, 3, 2, 1]\n",
      "3th largest element is: 4\n"
     ]
    }
   ],
   "source": [
    "arr = [3, 2, 1, 5, 6, 4]\n",
    "k=3\n",
    "arr.sort(reverse= True)  #  Sort in decreasing order\n",
    "print('sorted array:', arr)\n",
    "\n",
    "kth_largest= arr[k-1]\n",
    "print(f'{k}th largest element is:', kth_largest)  #This f is called an f-string, or formatted string literal. We use it to easily include variables inside strings.\n"
   ]
  },
  {
   "cell_type": "markdown",
   "id": "2b50e852-1652-43c7-8f96-9f5a38566f85",
   "metadata": {},
   "source": [
    "## 7️⃣ Find frequency of each element in an array"
   ]
  },
  {
   "cell_type": "code",
   "execution_count": 117,
   "id": "5ada0249-e8ff-4100-ab2e-3cde1e5f05d3",
   "metadata": {},
   "outputs": [
    {
     "name": "stdout",
     "output_type": "stream",
     "text": [
      "1:2 times\n",
      "2:3 times\n",
      "3:1 times\n",
      "4:1 times\n"
     ]
    }
   ],
   "source": [
    "arr = [1, 2, 2, 3, 1, 4, 2]\n",
    "freq= {}\n",
    "for i in arr:\n",
    "    if i in freq:\n",
    "        freq[i] = freq[i] + 1        #for dictionaries, [] means \"key\"\n",
    "    else:\n",
    "        freq[i] = 1\n",
    "for key in freq:\n",
    "    print(f'{key}:{freq[key]} times')\n"
   ]
  },
  {
   "cell_type": "markdown",
   "id": "73df8396-37fd-43fd-9c86-fd4554d51727",
   "metadata": {},
   "source": [
    "## ✅ Problem Given an array, move all 0s to the end. Keep the order of non-zero elements same."
   ]
  },
  {
   "cell_type": "code",
   "execution_count": 119,
   "id": "446f9c60-7928-4251-96be-8dda8da80c76",
   "metadata": {},
   "outputs": [
    {
     "data": {
      "text/plain": [
       "[1, 3, 12, 0, 0]"
      ]
     },
     "execution_count": 119,
     "metadata": {},
     "output_type": "execute_result"
    }
   ],
   "source": [
    "arr = [0, 1, 0, 3, 12]\n",
    "result= []\n",
    "for i in arr:\n",
    "    if i != 0:\n",
    "        result.append(i)\n",
    "zero_count= arr.count(0)           # count zeroes\n",
    "result.extend([0] * zero_count)    # Add zeros at end\n",
    "result"
   ]
  },
  {
   "cell_type": "markdown",
   "id": "922150b1-870e-4b3f-bf8e-edc206ed9ce8",
   "metadata": {},
   "source": [
    "## 9️⃣ Find the missing number from an array containing numbers from 1 to n\n"
   ]
  },
  {
   "cell_type": "code",
   "execution_count": 133,
   "id": "8ebf2457-7bce-4e31-8347-eb0889020d12",
   "metadata": {},
   "outputs": [
    {
     "name": "stdout",
     "output_type": "stream",
     "text": [
      "the missing num is: 3.0\n",
      "New array with missing number: [1, 2, 3.0, 4, 5, 6]\n"
     ]
    }
   ],
   "source": [
    "arr = [1, 2, 4, 5, 6]\n",
    "n=6\n",
    "total_sum = n * (n+1) / 2   # single slash / always returns a float, even if numbers are whole.\n",
    "actual_sum= sum(arr          # double slash // means integer (floor) division.\n",
    "missing_number= total_sum - actual_sum\n",
    "print('the missing num is:', missing_number)\n",
    "\n",
    "arr.append(missing_number)\n",
    "arr.sort()\n",
    "print(\"New array with missing number:\", arr)"
   ]
  },
  {
   "cell_type": "markdown",
   "id": "17f3044a-d112-48a7-b87e-eb817d554d83",
   "metadata": {},
   "source": [
    "## 🔟 Rotate the array by k steps\n"
   ]
  },
  {
   "cell_type": "code",
   "execution_count": 139,
   "id": "6962a8e7-f677-46de-8a28-5ece24471c06",
   "metadata": {},
   "outputs": [
    {
     "name": "stdout",
     "output_type": "stream",
     "text": [
      "Rotated array: [6, 7, 1, 2, 3, 4, 5]\n"
     ]
    }
   ],
   "source": [
    "arr = [1, 2, 3, 4, 5, 6, 7]     #sloved using SLICING\n",
    "k = 9\n",
    "#New array = last k elements + first n - k elements\n",
    "n= len(arr)\n",
    "k = k % n  # In case k > n\n",
    "rotated_arr = arr[-k: ] + arr[ :-k]\n",
    "print(\"Rotated array:\", rotated_arr)"
   ]
  },
  {
   "cell_type": "markdown",
   "id": "6304902f-fecd-44b8-b35a-88302fa754a4",
   "metadata": {},
   "source": [
    "## 📄 Problem statement: Given an m x n matrix. If an element is 0, set its entire row and column to 0. You must do it in-place.\n",
    "\n"
   ]
  },
  {
   "cell_type": "markdown",
   "id": "026f585f-5574-405d-986e-631c3d2ca953",
   "metadata": {},
   "source": [
    "## 1️⃣ Find the \"leader elements\" (elements greater than all elements to their right)\n"
   ]
  },
  {
   "cell_type": "code",
   "execution_count": null,
   "id": "c1367842-b3bb-4662-9bd8-790910e66aed",
   "metadata": {},
   "outputs": [],
   "source": [
    "#An element is a leader if it is greater than all elements to its right.\n",
    "\n"
   ]
  },
  {
   "cell_type": "code",
   "execution_count": null,
   "id": "8056e9cb-f452-44b1-88c7-da271e2781ee",
   "metadata": {},
   "outputs": [],
   "source": []
  }
 ],
 "metadata": {
  "kernelspec": {
   "display_name": "Python 3 (ipykernel)",
   "language": "python",
   "name": "python3"
  },
  "language_info": {
   "codemirror_mode": {
    "name": "ipython",
    "version": 3
   },
   "file_extension": ".py",
   "mimetype": "text/x-python",
   "name": "python",
   "nbconvert_exporter": "python",
   "pygments_lexer": "ipython3",
   "version": "3.11.7"
  }
 },
 "nbformat": 4,
 "nbformat_minor": 5
}
